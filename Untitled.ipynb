{
 "cells": [
  {
   "cell_type": "code",
   "execution_count": 20,
   "metadata": {},
   "outputs": [
    {
     "name": "stdout",
     "output_type": "stream",
     "text": [
      "Looking in indexes: https://test.pypi.org/simple/\n",
      "Collecting lambdata_Dpgofast\n",
      "  Downloading https://test-files.pythonhosted.org/packages/dd/ee/b52d083b6538da81b2960dd1f67a0d40f1a6ced8ee027d6fa9e83bcd4e90/lambdata_dpgofast-0.0.6-py3-none-any.whl\n",
      "Requirement already satisfied: numpy in c:\\users\\andre\\.virtualenvs\\lambdata-andrewmarksart-ir4ddbtt\\lib\\site-packages (from lambdata_Dpgofast) (1.17.1)\n",
      "Collecting matplotlib (from lambdata_Dpgofast)\n"
     ]
    },
    {
     "name": "stderr",
     "output_type": "stream",
     "text": [
      "  ERROR: Could not find a version that satisfies the requirement matplotlib (from lambdata_Dpgofast) (from versions: none)\n",
      "ERROR: No matching distribution found for matplotlib (from lambdata_Dpgofast)\n"
     ]
    }
   ],
   "source": [
    "!pip install -i https://test.pypi.org/simple/ lambdata_Dpgofast"
   ]
  },
  {
   "cell_type": "code",
   "execution_count": 17,
   "metadata": {},
   "outputs": [
    {
     "ename": "ModuleNotFoundError",
     "evalue": "No module named 'lambdata_AndrewMarksArt'",
     "output_type": "error",
     "traceback": [
      "\u001b[1;31m---------------------------------------------------------------------------\u001b[0m",
      "\u001b[1;31mModuleNotFoundError\u001b[0m                       Traceback (most recent call last)",
      "\u001b[1;32m<ipython-input-17-a6ab3f2349e8>\u001b[0m in \u001b[0;36m<module>\u001b[1;34m\u001b[0m\n\u001b[1;32m----> 1\u001b[1;33m \u001b[1;32mimport\u001b[0m \u001b[0mlambdata_AndrewMarksArt\u001b[0m\u001b[1;33m\u001b[0m\u001b[1;33m\u001b[0m\u001b[0m\n\u001b[0m",
      "\u001b[1;31mModuleNotFoundError\u001b[0m: No module named 'lambdata_AndrewMarksArt'"
     ]
    }
   ],
   "source": [
    "import lambdata_AndrewMarksArt"
   ]
  }
 ],
 "metadata": {
  "kernelspec": {
   "display_name": "Python 3",
   "language": "python",
   "name": "python3"
  },
  "language_info": {
   "codemirror_mode": {
    "name": "ipython",
    "version": 3
   },
   "file_extension": ".py",
   "mimetype": "text/x-python",
   "name": "python",
   "nbconvert_exporter": "python",
   "pygments_lexer": "ipython3",
   "version": "3.7.3"
  }
 },
 "nbformat": 4,
 "nbformat_minor": 2
}
